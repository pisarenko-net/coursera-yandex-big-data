{
 "cells": [
  {
   "cell_type": "markdown",
   "metadata": {},
   "source": [
    "## Compute tf per word+article_id pair"
   ]
  },
  {
   "cell_type": "code",
   "execution_count": 78,
   "metadata": {},
   "outputs": [
    {
     "name": "stdout",
     "output_type": "stream",
     "text": [
      "Overwriting mapper.py\n"
     ]
    }
   ],
   "source": [
    "%%writefile mapper.py\n",
    "\n",
    "from collections import defaultdict\n",
    "\n",
    "import sys\n",
    "import re\n",
    "\n",
    "reload(sys)\n",
    "sys.setdefaultencoding('utf-8') # required to convert to unicode\n",
    "\n",
    "stop_words = set()\n",
    "with open(\"stop_words_en.txt\") as f:\n",
    "    stop_words.update(word.strip() for word in f.readlines())\n",
    "\n",
    "for line in sys.stdin:\n",
    "    try:\n",
    "        article_id, text = unicode(line.strip()).split('\\t', 1)\n",
    "    except ValueError as e:\n",
    "        continue\n",
    "\n",
    "    words = [word.lower() for word in re.split(\"\\W*\\s+\\W*\", text, flags=re.UNICODE)\n",
    "             if word.lower() not in stop_words]\n",
    "\n",
    "    word_counts = defaultdict(int)\n",
    "    for word in words:\n",
    "        word_counts[word] += 1\n",
    "    total_words = len(words)\n",
    "\n",
    "    for word in word_counts:\n",
    "        tf = word_counts[word] / total_words\n",
    "        print '%s\\t%s,%d,%d' % (word, article_id, word_counts[word], total_words)"
   ]
  },
  {
   "cell_type": "code",
   "execution_count": 86,
   "metadata": {},
   "outputs": [
    {
     "name": "stdout",
     "output_type": "stream",
     "text": [
      "Overwriting reducer.py\n"
     ]
    }
   ],
   "source": [
    "%%writefile reducer.py\n",
    "\n",
    "import sys\n",
    "import math\n",
    "\n",
    "prev_word = None\n",
    "articles = {}\n",
    "\n",
    "def print_tf_idf(word, articles):\n",
    "    articles_with_word = len(articles)\n",
    "    for article_id in articles:\n",
    "        word_count_in_article, total_words_in_article = articles[article_id]\n",
    "        tf = float(word_count_in_article) / float(total_words_in_article)\n",
    "        idf = 1 / math.log(1 + articles_with_word)\n",
    "        print '%s,%s\\t%.10f' % (word, article_id, tf * idf)\n",
    "\n",
    "for line in sys.stdin:\n",
    "    try:\n",
    "        word, value = line.strip().split('\\t', 1)\n",
    "        article_id, word_count, total_words = value.split(',')\n",
    "    except ValueError as e:\n",
    "        continue\n",
    "        \n",
    "    if prev_word != word:\n",
    "        if prev_word is not None:\n",
    "            print_tf_idf(prev_word, articles)\n",
    "            articles = {}\n",
    "        prev_word = word\n",
    "\n",
    "    articles[article_id] = (word_count, total_words)"
   ]
  },
  {
   "cell_type": "markdown",
   "metadata": {},
   "source": [
    "## Hadoop jobs"
   ]
  },
  {
   "cell_type": "code",
   "execution_count": 89,
   "metadata": {},
   "outputs": [
    {
     "name": "stdout",
     "output_type": "stream",
     "text": [
      "0.0003504690\n"
     ]
    },
    {
     "name": "stderr",
     "output_type": "stream",
     "text": [
      "18/05/13 08:46:40 INFO client.RMProxy: Connecting to ResourceManager at /0.0.0.0:8032\n",
      "18/05/13 08:46:41 INFO client.RMProxy: Connecting to ResourceManager at /0.0.0.0:8032\n",
      "18/05/13 08:46:41 INFO mapred.FileInputFormat: Total input files to process : 1\n",
      "18/05/13 08:46:41 INFO mapreduce.JobSubmitter: number of splits:2\n",
      "18/05/13 08:46:41 INFO mapreduce.JobSubmitter: Submitting tokens for job: job_1526123822060_0050\n",
      "18/05/13 08:46:41 INFO impl.YarnClientImpl: Submitted application application_1526123822060_0050\n",
      "18/05/13 08:46:41 INFO mapreduce.Job: The url to track the job: http://034ad37a251b:8088/proxy/application_1526123822060_0050/\n",
      "18/05/13 08:46:41 INFO mapreduce.Job: Running job: job_1526123822060_0050\n",
      "18/05/13 08:46:48 INFO mapreduce.Job: Job job_1526123822060_0050 running in uber mode : false\n",
      "18/05/13 08:46:48 INFO mapreduce.Job:  map 0% reduce 0%\n",
      "18/05/13 08:47:04 INFO mapreduce.Job:  map 40% reduce 0%\n",
      "18/05/13 08:47:10 INFO mapreduce.Job:  map 60% reduce 0%\n",
      "18/05/13 08:47:16 INFO mapreduce.Job:  map 67% reduce 0%\n",
      "18/05/13 08:47:18 INFO mapreduce.Job:  map 100% reduce 0%\n",
      "18/05/13 08:47:27 INFO mapreduce.Job:  map 100% reduce 13%\n",
      "18/05/13 08:47:30 INFO mapreduce.Job:  map 100% reduce 25%\n",
      "18/05/13 08:47:32 INFO mapreduce.Job:  map 100% reduce 38%\n",
      "18/05/13 08:47:34 INFO mapreduce.Job:  map 100% reduce 50%\n",
      "18/05/13 08:47:35 INFO mapreduce.Job:  map 100% reduce 63%\n",
      "18/05/13 08:47:36 INFO mapreduce.Job:  map 100% reduce 75%\n",
      "18/05/13 08:47:38 INFO mapreduce.Job:  map 100% reduce 100%\n",
      "18/05/13 08:47:39 INFO mapreduce.Job: Job job_1526123822060_0050 completed successfully\n",
      "18/05/13 08:47:39 INFO mapreduce.Job: Counters: 50\n",
      "\tFile System Counters\n",
      "\t\tFILE: Number of bytes read=76308101\n",
      "\t\tFILE: Number of bytes written=154019156\n",
      "\t\tFILE: Number of read operations=0\n",
      "\t\tFILE: Number of large read operations=0\n",
      "\t\tFILE: Number of write operations=0\n",
      "\t\tHDFS: Number of bytes read=76874501\n",
      "\t\tHDFS: Number of bytes written=90652277\n",
      "\t\tHDFS: Number of read operations=30\n",
      "\t\tHDFS: Number of large read operations=0\n",
      "\t\tHDFS: Number of write operations=16\n",
      "\tJob Counters \n",
      "\t\tKilled reduce tasks=1\n",
      "\t\tLaunched map tasks=2\n",
      "\t\tLaunched reduce tasks=9\n",
      "\t\tData-local map tasks=2\n",
      "\t\tTotal time spent by all maps in occupied slots (ms)=56035\n",
      "\t\tTotal time spent by all reduces in occupied slots (ms)=77153\n",
      "\t\tTotal time spent by all map tasks (ms)=56035\n",
      "\t\tTotal time spent by all reduce tasks (ms)=77153\n",
      "\t\tTotal vcore-milliseconds taken by all map tasks=56035\n",
      "\t\tTotal vcore-milliseconds taken by all reduce tasks=77153\n",
      "\t\tTotal megabyte-milliseconds taken by all map tasks=57379840\n",
      "\t\tTotal megabyte-milliseconds taken by all reduce tasks=79004672\n",
      "\tMap-Reduce Framework\n",
      "\t\tMap input records=4100\n",
      "\t\tMap output records=3472743\n",
      "\t\tMap output bytes=69362557\n",
      "\t\tMap output materialized bytes=76308149\n",
      "\t\tInput split bytes=228\n",
      "\t\tCombine input records=0\n",
      "\t\tCombine output records=0\n",
      "\t\tReduce input groups=426865\n",
      "\t\tReduce shuffle bytes=76308149\n",
      "\t\tReduce input records=3472743\n",
      "\t\tReduce output records=3472677\n",
      "\t\tSpilled Records=6945486\n",
      "\t\tShuffled Maps =16\n",
      "\t\tFailed Shuffles=0\n",
      "\t\tMerged Map outputs=16\n",
      "\t\tGC time elapsed (ms)=1325\n",
      "\t\tCPU time spent (ms)=77360\n",
      "\t\tPhysical memory (bytes) snapshot=1972539392\n",
      "\t\tVirtual memory (bytes) snapshot=19750596608\n",
      "\t\tTotal committed heap usage (bytes)=1256718336\n",
      "\tShuffle Errors\n",
      "\t\tBAD_ID=0\n",
      "\t\tCONNECTION=0\n",
      "\t\tIO_ERROR=0\n",
      "\t\tWRONG_LENGTH=0\n",
      "\t\tWRONG_MAP=0\n",
      "\t\tWRONG_REDUCE=0\n",
      "\tFile Input Format Counters \n",
      "\t\tBytes Read=76874273\n",
      "\tFile Output Format Counters \n",
      "\t\tBytes Written=90652277\n",
      "18/05/13 08:47:39 INFO streaming.StreamJob: Output directory: td_idf_result\n"
     ]
    }
   ],
   "source": [
    "%%bash\n",
    "\n",
    "NUM_REDUCERS=8\n",
    "\n",
    "OUT_DIR=\"td_idf_result\"$(date +\"%s%6N\")\n",
    "\n",
    "hdfs dfs -rm -r -skipTrash ${OUT_DIR} > /dev/null\n",
    "\n",
    "yarn jar /opt/cloudera/parcels/CDH/lib/hadoop-mapreduce/hadoop-streaming.jar \\\n",
    "    -D mapred.jab.name=\"Streaming td*idf\" \\\n",
    "    -D mapreduce.job.reduces=${NUM_REDUCERS} \\\n",
    "    -D mapreduce.partition.keycomparator.options=-k1,1 \\\n",
    "    -D mapreduce.job.output.key.comparator.class=org.apache.hadoop.mapred.lib.KeyFieldBasedComparator \\\n",
    "    -files mapper.py,reducer.py,/datasets/stop_words_en.txt \\\n",
    "    -mapper \"python mapper.py\" \\\n",
    "    -reducer \"python reducer.py\" \\\n",
    "    -input /data/wiki/en_articles_part \\\n",
    "    -output ${OUT_DIR} > /dev/null\n",
    "    \n",
    "hdfs dfs -cat ${OUT_DIR}/* | egrep \"^labor,12$(printf '\\t').*\" | cut -f 2"
   ]
  },
  {
   "cell_type": "code",
   "execution_count": null,
   "metadata": {},
   "outputs": [],
   "source": []
  }
 ],
 "metadata": {
  "kernelspec": {
   "display_name": "Python 2",
   "language": "python",
   "name": "python2"
  },
  "language_info": {
   "codemirror_mode": {
    "name": "ipython",
    "version": 2
   },
   "file_extension": ".py",
   "mimetype": "text/x-python",
   "name": "python",
   "nbconvert_exporter": "python",
   "pygments_lexer": "ipython2",
   "version": "2.7.12"
  }
 },
 "nbformat": 4,
 "nbformat_minor": 2
}
