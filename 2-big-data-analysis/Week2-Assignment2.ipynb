{
 "cells": [
  {
   "cell_type": "code",
   "execution_count": null,
   "metadata": {},
   "outputs": [],
   "source": [
    "%%writefile query_top_tags.hql\n",
    "\n",
    "USE stackoverflow_;\n",
    "\n",
    "SELECT top_2016.tag, top_2016.rank, top_2009.rank, top_2016.tag_count, top_2009.tag_count\n",
    "\n",
    "FROM\n",
    "\n",
    "(SELECT count(*) as tag_count, tag, rank() OVER (ORDER BY count(*) DESC) AS rank\n",
    "FROM posts\n",
    "LATERAL VIEW explode(tags) tags_exploded as tag\n",
    "WHERE post_type_id == 1 AND year == 2016\n",
    "GROUP BY tag) top_2016\n",
    "\n",
    "JOIN\n",
    "\n",
    "(SELECT count(*) as tag_count, tag, rank() OVER (ORDER BY count(*) DESC) AS rank\n",
    "FROM posts\n",
    "LATERAL VIEW explode(tags) tags_exploded as tag\n",
    "WHERE post_type_id == 1 AND year == 2009\n",
    "GROUP BY tag) top_2009\n",
    "\n",
    "WHERE top_2016.tag == top_2009.tag\n",
    "\n",
    "ORDER BY top_2016.tag_count DESC\n",
    "\n",
    "LIMIT 10;"
   ]
  },
  {
   "cell_type": "code",
   "execution_count": null,
   "metadata": {},
   "outputs": [],
   "source": [
    "! hive -f query_top_tags.hql > output.txt 2> error.txt"
   ]
  },
  {
   "cell_type": "code",
   "execution_count": null,
   "metadata": {},
   "outputs": [],
   "source": [
    "%%bash\n",
    "\n",
    "cat output.txt\n",
    "(>&2 cat error.txt)"
   ]
  }
 ],
 "metadata": {
  "kernelspec": {
   "display_name": "Python 2",
   "language": "python",
   "name": "python2"
  },
  "language_info": {
   "codemirror_mode": {
    "name": "ipython",
    "version": 2
   },
   "file_extension": ".py",
   "mimetype": "text/x-python",
   "name": "python",
   "nbconvert_exporter": "python",
   "pygments_lexer": "ipython2",
   "version": "2.7.12"
  }
 },
 "nbformat": 4,
 "nbformat_minor": 2
}
