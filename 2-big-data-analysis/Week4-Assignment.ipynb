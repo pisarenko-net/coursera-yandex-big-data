{
 "cells": [
  {
   "cell_type": "code",
   "execution_count": 1,
   "metadata": {},
   "outputs": [],
   "source": [
    "from pyspark.sql import SparkSession\n",
    "sparkSession = SparkSession.builder.enableHiveSupport().master(\"local\").getOrCreate()"
   ]
  },
  {
   "cell_type": "code",
   "execution_count": 2,
   "metadata": {},
   "outputs": [],
   "source": [
    "graphPath = \"/data/graphDFSample\""
   ]
  },
  {
   "cell_type": "code",
   "execution_count": 5,
   "metadata": {},
   "outputs": [],
   "source": [
    "import itertools\n",
    "\n",
    "from pyspark.sql.functions import explode, collect_list, size, col, sort_array, udf\n",
    "from pyspark.sql import Row\n",
    "from pyspark.sql import Window\n",
    "from pyspark.sql.types import ArrayType, IntegerType, StructField, StructType\n",
    "\n",
    "ResultPair = Row('user1', 'user2')\n",
    "\n",
    "def emit_pairs(users): \n",
    "    return [ResultPair(pair[0], pair[1]) for pair in itertools.combinations(users, 2)]\n",
    "\n",
    "emit_pairs_udf = udf(emit_pairs, ArrayType(StructType([StructField(\"user1\", IntegerType(), True), \\\n",
    "                                                          StructField(\"user2\", IntegerType(), True)])))\n",
    "\n",
    "graph = sparkSession.read.parquet(graphPath) \\\n",
    "    .withColumn(\"friend\", explode('friends')) \\\n",
    "    .groupBy(\"friend\") \\\n",
    "    .agg(sort_array(collect_list(\"user\")).alias(\"users\")) \\\n",
    "    .withColumn(\"users_size\", size(\"users\")) \\\n",
    "    .filter(col(\"users_size\") > 1) \\\n",
    "    .withColumn(\"pair\", explode(emit_pairs_udf(\"users\"))) \\\n",
    "    .drop('users') \\\n",
    "    .drop('users_size') \\\n",
    "    .withColumn('user1', col(\"pair.user1\")) \\\n",
    "    .withColumn('user2', col(\"pair.user2\"))"
   ]
  },
  {
   "cell_type": "code",
   "execution_count": null,
   "metadata": {},
   "outputs": [],
   "source": [
    "from pyspark.sql.functions import col, count, row_number\n",
    "\n",
    "friendsCount = graph \\\n",
    "    .groupBy([\"user1\", \"user2\"]) \\\n",
    "    .agg(count(\"friend\").alias(\"friends_count\"))\n",
    "\n",
    "window = Window.orderBy(col(\"friends_count\").desc())\n",
    "    \n",
    "top50 = friendsCount \\\n",
    "    .withColumn(\"row_number\", row_number().over(window)) \\\n",
    "    .filter(col(\"row_number\") < 50) \\\n",
    "    .select(col(\"friends_count\"), col(\"user1\"), col(\"user2\")) \\\n",
    "    .orderBy(col(\"friends_count\").desc()) \\\n",
    "    .collect()\n",
    "    \n",
    "for entry in top50:\n",
    "    print '%s %s %s' % entry"
   ]
  },
  {
   "cell_type": "code",
   "execution_count": null,
   "metadata": {},
   "outputs": [],
   "source": []
  }
 ],
 "metadata": {
  "kernelspec": {
   "display_name": "Python 2",
   "language": "python",
   "name": "python2"
  },
  "language_info": {
   "codemirror_mode": {
    "name": "ipython",
    "version": 2
   },
   "file_extension": ".py",
   "mimetype": "text/x-python",
   "name": "python",
   "nbconvert_exporter": "python",
   "pygments_lexer": "ipython2",
   "version": "2.7.12"
  }
 },
 "nbformat": 4,
 "nbformat_minor": 2
}
