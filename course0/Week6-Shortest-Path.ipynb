{
 "cells": [
  {
   "cell_type": "code",
   "execution_count": 1,
   "metadata": {},
   "outputs": [],
   "source": [
    "from pyspark import SparkConf, SparkContext\n",
    "sc = SparkContext(conf=SparkConf().setAppName(\"MyApp\").setMaster(\"local\"))"
   ]
  },
  {
   "cell_type": "code",
   "execution_count": 2,
   "metadata": {},
   "outputs": [],
   "source": [
    "def step(item):\n",
    "    prev_v, prev_d, next_v = item[0], item[1][0], item[1][1]\n",
    "    return (next_v, (prev_v, prev_d + 1))\n",
    "\n",
    "def complete(item):\n",
    "    vertex = item[0]\n",
    "    prev_d = item[1][0]\n",
    "    if prev_d is not None:\n",
    "        return (vertex, (None, prev_d))\n",
    "    else:\n",
    "        prev_vertex =  item[1][1][0]\n",
    "        new_d = item[1][1][1]\n",
    "        return (vertex, (prev_vertex, new_d))\n",
    "    \n",
    "def strip_vertex_from(item):\n",
    "    to_vertex = item[0]\n",
    "    from_vertex = item[1][0]\n",
    "    distance = item[1][1]\n",
    "    return (to_vertex, distance)"
   ]
  },
  {
   "cell_type": "code",
   "execution_count": 3,
   "metadata": {},
   "outputs": [],
   "source": [
    "def parse_edge(s):\n",
    "    user, follower = s.split(\"\\t\")\n",
    "    return (int(user), int(follower))\n",
    "\n",
    "edges = sc.textFile(\"/data/twitter/twitter_sample.txt\").map(parse_edge).cache()"
   ]
  },
  {
   "cell_type": "code",
   "execution_count": 4,
   "metadata": {},
   "outputs": [],
   "source": [
    "n = 1 # number of partitions\n",
    "\n",
    "x = 12 # source vertex\n",
    "y = 34 # destination vertex\n",
    "d = 0\n",
    "\n",
    "forward_edges = edges.map(lambda e: (e[1], e[0])).partitionBy(n).persist()\n",
    "distances = sc.parallelize([(x, 0)]).partitionBy(n)"
   ]
  },
  {
   "cell_type": "code",
   "execution_count": 5,
   "metadata": {},
   "outputs": [
    {
     "name": "stdout",
     "output_type": "stream",
     "text": [
      "Before filtering and saving paths\n",
      "One loop complete {648: 12, 380: 12, 422: 12, 126: 12}\n",
      "distances size 5\n",
      "Before filtering and saving paths\n",
      "One loop complete {422: 12, 648: 12, 690: 380, 53: 422, 380: 12, 126: 12, 31: 380}\n",
      "distances size 8\n",
      "Before filtering and saving paths\n",
      "One loop complete {292: 53, 422: 12, 648: 12, 652: 53, 13: 31, 15: 31, 690: 380, 52: 53, 53: 422, 150: 53, 87: 31, 57: 53, 187: 53, 380: 12, 126: 12, 31: 380}\n",
      "distances size 17\n",
      "Before filtering and saving paths\n",
      "One loop complete {150: 53, 648: 12, 652: 53, 13: 31, 14: 292, 15: 31, 662: 87, 24: 15, 541: 13, 31: 380, 292: 53, 293: 187, 422: 12, 681: 87, 690: 380, 52: 53, 53: 422, 57: 53, 187: 53, 64: 292, 66: 292, 335: 87, 341: 15, 87: 31, 89: 150, 615: 87, 107: 52, 246: 87, 633: 150, 380: 12, 126: 12}\n",
      "distances size 32\n",
      "Before filtering and saving paths\n",
      "One loop complete {448: 24, 235: 662, 150: 53, 648: 12, 652: 53, 13: 31, 14: 292, 15: 31, 16: 64, 18: 681, 20: 107, 21: 89, 662: 87, 535: 541, 24: 15, 409: 246, 541: 13, 31: 380, 291: 14, 292: 53, 293: 187, 422: 12, 681: 87, 299: 662, 47: 246, 690: 380, 52: 53, 53: 422, 57: 53, 187: 53, 317: 14, 64: 292, 66: 292, 69: 14, 582: 14, 586: 107, 335: 87, 341: 15, 87: 31, 89: 150, 615: 87, 107: 52, 246: 87, 633: 150, 380: 12, 126: 12}\n",
      "distances size 47\n",
      "Before filtering and saving paths\n",
      "One loop complete {448: 24, 235: 662, 150: 53, 257: 16, 648: 12, 23: 20, 652: 53, 13: 31, 14: 292, 15: 31, 16: 64, 18: 681, 20: 107, 21: 89, 662: 87, 535: 541, 24: 15, 409: 246, 22: 18, 541: 13, 31: 380, 418: 291, 291: 14, 292: 53, 293: 187, 422: 12, 295: 20, 681: 87, 299: 662, 47: 246, 690: 380, 52: 53, 53: 422, 57: 53, 314: 21, 187: 53, 317: 14, 666: 299, 64: 292, 66: 292, 69: 14, 582: 14, 586: 107, 335: 87, 450: 21, 209: 409, 722: 586, 339: 299, 341: 15, 87: 31, 89: 150, 94: 299, 38: 16, 615: 87, 107: 52, 236: 47, 246: 87, 633: 150, 380: 12, 126: 12}\n",
      "distances size 61\n",
      "Before filtering and saving paths\n",
      "One loop complete {448: 24, 235: 662, 150: 53, 257: 16, 648: 12, 23: 20, 652: 53, 13: 31, 14: 292, 15: 31, 16: 64, 17: 38, 18: 681, 259: 236, 20: 107, 21: 89, 662: 87, 535: 541, 24: 15, 409: 246, 22: 18, 541: 13, 414: 450, 31: 380, 418: 291, 291: 14, 292: 53, 293: 187, 422: 12, 295: 20, 681: 87, 299: 662, 47: 246, 136: 38, 690: 380, 52: 53, 53: 422, 57: 53, 314: 21, 187: 53, 317: 14, 666: 299, 64: 292, 66: 292, 69: 14, 582: 14, 586: 107, 335: 87, 450: 21, 209: 409, 722: 586, 339: 299, 341: 15, 87: 31, 89: 150, 94: 299, 607: 295, 38: 16, 615: 87, 107: 52, 236: 47, 274: 23, 246: 87, 633: 150, 380: 12, 126: 12}\n",
      "distances size 67\n",
      "Before filtering and saving paths\n",
      "One loop complete {448: 24, 235: 662, 150: 53, 257: 16, 648: 12, 265: 259, 23: 20, 652: 53, 13: 31, 14: 292, 15: 31, 16: 64, 17: 38, 18: 681, 259: 236, 20: 107, 21: 89, 662: 87, 535: 541, 24: 15, 409: 246, 22: 18, 541: 13, 414: 450, 31: 380, 418: 291, 291: 14, 292: 53, 293: 187, 422: 12, 295: 20, 681: 87, 299: 662, 47: 246, 136: 38, 690: 380, 52: 53, 53: 422, 57: 53, 314: 21, 187: 53, 317: 14, 666: 299, 64: 292, 66: 292, 69: 14, 582: 14, 586: 107, 34: 274, 335: 87, 450: 21, 209: 409, 722: 586, 339: 299, 341: 15, 87: 31, 89: 150, 94: 299, 607: 295, 38: 16, 615: 87, 107: 52, 236: 47, 274: 23, 246: 87, 633: 150, 380: 12, 126: 12}\n",
      "distances size 71\n"
     ]
    },
    {
     "data": {
      "text/plain": [
       "{13: 31,\n",
       " 14: 292,\n",
       " 15: 31,\n",
       " 16: 64,\n",
       " 17: 38,\n",
       " 18: 681,\n",
       " 20: 107,\n",
       " 21: 89,\n",
       " 22: 18,\n",
       " 23: 20,\n",
       " 24: 15,\n",
       " 31: 380,\n",
       " 34: 274,\n",
       " 38: 16,\n",
       " 47: 246,\n",
       " 52: 53,\n",
       " 53: 422,\n",
       " 57: 53,\n",
       " 64: 292,\n",
       " 66: 292,\n",
       " 69: 14,\n",
       " 87: 31,\n",
       " 89: 150,\n",
       " 94: 299,\n",
       " 107: 52,\n",
       " 126: 12,\n",
       " 136: 38,\n",
       " 150: 53,\n",
       " 187: 53,\n",
       " 209: 409,\n",
       " 235: 662,\n",
       " 236: 47,\n",
       " 246: 87,\n",
       " 257: 16,\n",
       " 259: 236,\n",
       " 265: 259,\n",
       " 274: 23,\n",
       " 291: 14,\n",
       " 292: 53,\n",
       " 293: 187,\n",
       " 295: 20,\n",
       " 299: 662,\n",
       " 314: 21,\n",
       " 317: 14,\n",
       " 335: 87,\n",
       " 339: 299,\n",
       " 341: 15,\n",
       " 380: 12,\n",
       " 409: 246,\n",
       " 414: 450,\n",
       " 418: 291,\n",
       " 422: 12,\n",
       " 448: 24,\n",
       " 450: 21,\n",
       " 535: 541,\n",
       " 541: 13,\n",
       " 582: 14,\n",
       " 586: 107,\n",
       " 607: 295,\n",
       " 615: 87,\n",
       " 633: 150,\n",
       " 648: 12,\n",
       " 652: 53,\n",
       " 662: 87,\n",
       " 666: 299,\n",
       " 681: 87,\n",
       " 690: 380,\n",
       " 722: 586}"
      ]
     },
     "execution_count": 5,
     "metadata": {},
     "output_type": "execute_result"
    }
   ],
   "source": [
    "path_to = {}\n",
    "destination_found = False\n",
    "\n",
    "while not destination_found:\n",
    "    # produces: [(126, (12, 1)), (380, (12, 1)), (422, (12, 1)), (648, (12, 1))]\n",
    "    candidates = distances.join(forward_edges, n).map(step)\n",
    "\n",
    "    # produces: [(648, (12, 1)), (380, (12, 1)), (12, (None, 0)), (126, (12, 1)), (422, (12, 1))]\n",
    "    new_distances = distances.fullOuterJoin(candidates, n).map(complete, True).persist()\n",
    "    \n",
    "    print('Before filtering and saving paths')\n",
    "\n",
    "    filtered_new_distances = new_distances.filter(lambda i: i[1][1] == d + 1)\n",
    "    for entry in filtered_new_distances.collect():\n",
    "        to_vertex = entry[0]\n",
    "        from_vertex = entry[1][0]\n",
    "        if from_vertex:\n",
    "            path_to[to_vertex] = from_vertex\n",
    "        if to_vertex == y:\n",
    "            destination_found = True\n",
    "            break\n",
    "            \n",
    "    print('One loop complete %s' % path_to)\n",
    "\n",
    "    d += 1\n",
    "    # produces: [(422, 1), (648, 1), (12, 0), (690, 2), (53, 2), (380, 1), (126, 1), (31, 2)]\n",
    "    distances = new_distances.map(strip_vertex_from).distinct()\n",
    "    print('distances size %s' % distances.count())\n",
    "\n",
    "path_to"
   ]
  },
  {
   "cell_type": "code",
   "execution_count": 6,
   "metadata": {},
   "outputs": [
    {
     "name": "stdout",
     "output_type": "stream",
     "text": [
      "12,422,53,52,107,20,23,274,34\n"
     ]
    }
   ],
   "source": [
    "path = []\n",
    "vertex = y\n",
    "\n",
    "while vertex in path_to:\n",
    "    path.insert(0, vertex)\n",
    "    vertex = path_to[vertex]\n",
    "    \n",
    "path.insert(0, x)\n",
    "\n",
    "print(','.join(str(el) for el in path))"
   ]
  },
  {
   "cell_type": "code",
   "execution_count": null,
   "metadata": {},
   "outputs": [],
   "source": []
  }
 ],
 "metadata": {
  "kernelspec": {
   "display_name": "Python 2",
   "language": "python",
   "name": "python2"
  },
  "language_info": {
   "codemirror_mode": {
    "name": "ipython",
    "version": 2
   },
   "file_extension": ".py",
   "mimetype": "text/x-python",
   "name": "python",
   "nbconvert_exporter": "python",
   "pygments_lexer": "ipython2",
   "version": "2.7.12"
  }
 },
 "nbformat": 4,
 "nbformat_minor": 2
}
